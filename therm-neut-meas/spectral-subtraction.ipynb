{
 "cells": [
  {
   "cell_type": "code",
   "execution_count": 1,
   "metadata": {},
   "outputs": [],
   "source": [
    "#we may need some code in the ../python directory and/or matplotlib styles\n",
    "import sys\n",
    "sys.path.append('../python/')\n",
    "\n",
    "#matplotlib for plotting\n",
    "import matplotlib as mpl\n",
    "from matplotlib import pyplot as plt\n",
    "plt.style.use('../mplstyles/stylelib/standard.mplstyle')\n",
    "\n",
    "#other computational libraries\n",
    "import numpy as np\n",
    "import pandas as pd"
   ]
  },
  {
   "cell_type": "code",
   "execution_count": 13,
   "metadata": {},
   "outputs": [],
   "source": [
    "#Import data\n",
    "data = pd.read_csv (\"data/background_220720.txt\")\n",
    "bknd_bins = data.iloc[:,0]\n",
    "bknd_cnts = data.iloc[:,1]\n",
    "bknd_bins = np.asarray(bknd_bins)\n",
    "bknd_cnts = np.asarray(bknd_cnts)"
   ]
  },
  {
   "cell_type": "code",
   "execution_count": null,
   "metadata": {},
   "outputs": [
    {
     "name": "stderr",
     "output_type": "stream",
     "text": [
      "Locator attempting to generate 3500 ticks ([100.0, ..., 799.80000000001]), which exceeds Locator.MAXTICKS (1000).\n",
      "Locator attempting to generate 3500 ticks ([100.0, ..., 799.80000000001]), which exceeds Locator.MAXTICKS (1000).\n"
     ]
    }
   ],
   "source": [
    "#set up a 1d plot\n",
    "fig,axes = plt.subplots(1,1,figsize=(9.0,8.0),sharex=True)\n",
    "ax1 = axes\n",
    "\n",
    "\n",
    "#ax1.step(bknd_bins,bknd_cnts, where='mid',color='m', linestyle='-', \\\n",
    "#            label='background', linewidth=2)\n",
    "ax1.step(bknd_bins,bknd_cnts,color='m', linestyle='-',label='background', linewidth=1)\n",
    "\n",
    "\n",
    "ymin = 0.0\n",
    "ymax = 35000.0\n",
    "\n",
    "blue = '#118DFA'\n",
    "#ax1.fill_between(bknd_bins,np.zeros(np.shape(bknd_bins)),bknd_cnts,step='mid',facecolor='m',alpha=0.4, \\\n",
    "#                 label='')\n",
    "\n",
    "\n",
    "\n",
    "#ax1.set_yscale('linear')\n",
    "#ax1.set_yscale('log')\n",
    "ax1.set_xlim(100, 800) \n",
    "ax1.set_ylim(ymin,ymax)\n",
    "ax1.set_xlabel(r'bins')\n",
    "ax1.set_ylabel('counts')\n",
    "#ax1.grid(True)\n",
    "#ax1.yaxis.grid(True,which='minor',linestyle='--')\n",
    "ax1.legend(loc=1,prop={'size':22})\n",
    "#ax1.legend(bbox_to_anchor=(1.04,1),borderaxespad=0,prop={'size':22})\n",
    "\n",
    "for axis in ['top','bottom','left','right']:\n",
    "  ax1.spines[axis].set_linewidth(2)\n",
    "\n",
    "plt.tight_layout()\n",
    "#plt.savefig('paper_figures/MSyieldHist_Figure3a.eps')\n",
    "#plt.savefig('paper_figures/MSyieldHist_Figure3a.pdf')\n",
    "plt.show()"
   ]
  },
  {
   "cell_type": "code",
   "execution_count": null,
   "metadata": {},
   "outputs": [],
   "source": []
  }
 ],
 "metadata": {
  "kernelspec": {
   "display_name": "R68u",
   "language": "python",
   "name": "r68_uproot"
  },
  "language_info": {
   "codemirror_mode": {
    "name": "ipython",
    "version": 3
   },
   "file_extension": ".py",
   "mimetype": "text/x-python",
   "name": "python",
   "nbconvert_exporter": "python",
   "pygments_lexer": "ipython3",
   "version": "3.8.10"
  }
 },
 "nbformat": 4,
 "nbformat_minor": 4
}
